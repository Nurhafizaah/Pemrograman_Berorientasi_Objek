{
  "nbformat": 4,
  "nbformat_minor": 0,
  "metadata": {
    "colab": {
      "name": "Salinan dari SOAL_UTS_SI.ipynb",
      "provenance": [],
      "collapsed_sections": []
    },
    "kernelspec": {
      "display_name": "Python 3",
      "name": "python3"
    },
    "language_info": {
      "name": "python"
    }
  },
  "cells": [
    {
      "cell_type": "markdown",
      "metadata": {
        "id": "207NNMC_vMNX"
      },
      "source": [
        "## Soal UTS I\n",
        "Buatlah Program dengan bahasa python untuk menampilkan nama dan NIM anda pada halaman notebook ini"
      ]
    },
    {
      "cell_type": "code",
      "metadata": {
        "colab": {
          "base_uri": "https://localhost:8080/"
        },
        "id": "ayXUPo6SvaqJ",
        "outputId": "6f68f03b-ef97-4f78-ca66-f8a9657923fd"
      },
      "source": [
        "#Jawab\n",
        "print (\"Nur Hafizah\")\n",
        "print (\"11200466\")"
      ],
      "execution_count": 8,
      "outputs": [
        {
          "output_type": "stream",
          "name": "stdout",
          "text": [
            "Nur Hafizah\n",
            "11200466\n"
          ]
        }
      ]
    },
    {
      "cell_type": "markdown",
      "metadata": {
        "id": "txgZNIDhuEvS"
      },
      "source": [
        "## Soal UTS II\n",
        "\n",
        "\n",
        "Kerjakan salah satu dari dua soal berikut (Soal A atau B) sesuai dengan digit terakhir NIM anda.\n",
        "\n",
        "Jika Digit terakhir NIM anda adalah ganjil atau nol(0) kerjakanlan Soal A berikut ini\n",
        "\n",
        "**Soal A**\n",
        "\n",
        "Bualah aplikasi interaktif dengan pemrograman Python yang menerima input variable dari keyboard untuk mencari luas bangun datar lingkaran.\n",
        "\n",
        "Dengan tampilan sebagai berikut:\n",
        "```\n",
        "Masukan Diameter : \n",
        "Luas Lingkaran   :\n",
        "```\n",
        "Jika Digit terakhir NIM anda adalah genap kerjakanlan Soal B berikut ini \n",
        "\n",
        "**Soal B**\n",
        "\n",
        "Bualah aplikasi interaktif dengan pemrograman Python yang menerima input variable dari keyboard untuk mencari keliling bangun datar lingkaran.\n",
        "\n",
        "Dengan tampilan sebagai berikut:\n",
        "```\n",
        "Masukan Diameter : \n",
        "Keliling Lingkaran   :\n",
        "```"
      ]
    },
    {
      "cell_type": "markdown",
      "metadata": {
        "id": "L5pweWJ4vHe7"
      },
      "source": [
        ""
      ]
    },
    {
      "cell_type": "code",
      "metadata": {
        "colab": {
          "base_uri": "https://localhost:8080/"
        },
        "id": "mJ2YcXznurKe",
        "outputId": "14423ff0-eaa9-4cf6-85a6-4ce963114fbe"
      },
      "source": [
        "#Jawab\n",
        "print (\"Menghitung Keliling Lingkaran\")\n",
        "a=int(input(\"Masukkan diameter Lingkaran : \"))\n",
        "b=int(2)\n",
        "pembagian =a/b\n",
        "diameter = (pembagian)\n",
        "phi = 3.14\n",
        "keliling = 2 * phi * float(diameter) \n",
        "print (\"Keliling Lingkaran adalah\",keliling)"
      ],
      "execution_count": 7,
      "outputs": [
        {
          "output_type": "stream",
          "name": "stdout",
          "text": [
            "Menghitung Keliling Lingkaran\n",
            "Masukkan diameter Lingkaran : 16\n",
            "Keliling Lingkaran adalah 50.24\n"
          ]
        }
      ]
    }
  ]
}