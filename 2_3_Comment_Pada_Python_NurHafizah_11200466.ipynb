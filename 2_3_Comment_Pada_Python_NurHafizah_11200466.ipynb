{
 "cells": [
  {
   "cell_type": "code",
   "execution_count": 1,
   "id": "7ebacf1b",
   "metadata": {},
   "outputs": [
    {
     "name": "stdout",
     "output_type": "stream",
     "text": [
      "25\n",
      "20\n"
     ]
    }
   ],
   "source": [
    "#Jawab Tugas Praktek 3.2 Nomor 1\n",
    "#fungsi matematika Untuk Mencetak Jumlah Perhitungan Matematika\n",
    "#fungsi mencetak kalimat Untuk Mencetak Kata Atau Kalimat\n",
    "\n",
    "print(10*2+5) #fungsi matematika\n",
    "print(\"20\") #fungsi mencetak kalimat"
   ]
  },
  {
   "cell_type": "code",
   "execution_count": null,
   "id": "46c6fb10",
   "metadata": {},
   "outputs": [],
   "source": [
    "#Jawab Tugas Praktek 3.2 Nomor 2\n",
    "#nama: Nur hafizah\n",
    "#nim : 11200466\n",
    "\n",
    "print(10*2+5) #fungsi matematika\n",
    "print(\"20\") #fungsi mencetak kalimat"
   ]
  }
 ],
 "metadata": {
  "kernelspec": {
   "display_name": "Python 3 (ipykernel)",
   "language": "python",
   "name": "python3"
  },
  "language_info": {
   "codemirror_mode": {
    "name": "ipython",
    "version": 3
   },
   "file_extension": ".py",
   "mimetype": "text/x-python",
   "name": "python",
   "nbconvert_exporter": "python",
   "pygments_lexer": "ipython3",
   "version": "3.10.0"
  }
 },
 "nbformat": 4,
 "nbformat_minor": 5
}
